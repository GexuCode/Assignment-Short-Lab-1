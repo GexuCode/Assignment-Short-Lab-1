{
 "cells": [
  {
   "cell_type": "markdown",
   "metadata": {},
   "source": [
    "**Student ID:** 195351\n",
    "\n",
    "**Surname:** Xu\n",
    "\n",
    "**Year and Course:** 2 BS ITE"
   ]
  },
  {
   "cell_type": "markdown",
   "metadata": {},
   "source": [
    "# Problem 1"
   ]
  },
  {
   "cell_type": "code",
   "execution_count": 6,
   "metadata": {},
   "outputs": [
    {
     "name": "stdout",
     "output_type": "stream",
     "text": [
      "Enter the amount in US Dollars: 20\n",
      "20 US dollar(s) = 1000 Philippine Pesos\n"
     ]
    }
   ],
   "source": [
    "def dollars_to_pesos(dollar):\n",
    "    p = dollar * 50\n",
    "    return p\n",
    "\n",
    "dollar = int(input('Enter the amount in US Dollars: '))\n",
    "p = dollars_to_pesos(dollar)\n",
    "print(dollar,'US dollar(s)','=',p,'Philippine Pesos')\n",
    "    "
   ]
  },
  {
   "cell_type": "markdown",
   "metadata": {},
   "source": [
    "# Problem 2"
   ]
  },
  {
   "cell_type": "code",
   "execution_count": 10,
   "metadata": {},
   "outputs": [
    {
     "name": "stdout",
     "output_type": "stream",
     "text": [
      "128\n",
      "8\n",
      "\n",
      "136\n",
      "120\n",
      "1024\n",
      "16\n",
      "0\n"
     ]
    }
   ],
   "source": [
    "a = int(input())\n",
    "b = int(input())\n",
    "print('')\n",
    "print(a+b)\n",
    "print(a-b)\n",
    "print(a*b)\n",
    "print(a//b)\n",
    "print(a%b)"
   ]
  },
  {
   "cell_type": "markdown",
   "metadata": {},
   "source": [
    "# Problem 3"
   ]
  },
  {
   "cell_type": "code",
   "execution_count": 17,
   "metadata": {},
   "outputs": [
    {
     "name": "stdout",
     "output_type": "stream",
     "text": [
      "Enter kg: 70\n",
      "Enter cm: 170\n",
      "\n",
      "BMI: 24.221453287197235\n"
     ]
    }
   ],
   "source": [
    "def convert_cm_to_m(cm):\n",
    "    m = float(cm * 0.01)\n",
    "    return m\n",
    "\n",
    "def compute_bmi(kg,cm):\n",
    "    m = convert_cm_to_m(cm)\n",
    "    BMI = float(kg/(m**2))\n",
    "    return BMI \n",
    "\n",
    "kg = int(input('Enter kg: '))\n",
    "cm = int(input('Enter cm: '))\n",
    "print('')\n",
    "print('BMI:',compute_bmi(kg,cm))"
   ]
  },
  {
   "cell_type": "code",
   "execution_count": null,
   "metadata": {},
   "outputs": [],
   "source": []
  }
 ],
 "metadata": {
  "kernelspec": {
   "display_name": "Python 3",
   "language": "python",
   "name": "python3"
  },
  "language_info": {
   "codemirror_mode": {
    "name": "ipython",
    "version": 3
   },
   "file_extension": ".py",
   "mimetype": "text/x-python",
   "name": "python",
   "nbconvert_exporter": "python",
   "pygments_lexer": "ipython3",
   "version": "3.8.5"
  }
 },
 "nbformat": 4,
 "nbformat_minor": 4
}
